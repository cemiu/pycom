{
 "cells": [
  {
   "cell_type": "code",
   "execution_count": 2,
   "metadata": {
    "collapsed": true,
    "ExecuteTime": {
     "end_time": "2023-07-06T16:59:28.943569Z",
     "start_time": "2023-07-06T16:59:28.692468Z"
    }
   },
   "outputs": [],
   "source": [
    "from pycom.interface import PyCom\n",
    "\n",
    "pycom = PyCom(db_path='~/docs/prot_mat.db', mat_path='~/docs/mat.h5')"
   ]
  },
  {
   "cell_type": "code",
   "execution_count": 4,
   "outputs": [],
   "source": [
    "r = pycom.find(min_length=100, max_length=120)"
   ],
   "metadata": {
    "collapsed": false,
    "ExecuteTime": {
     "end_time": "2023-07-06T17:00:14.566461Z",
     "start_time": "2023-07-06T17:00:14.467833Z"
    }
   }
  },
  {
   "cell_type": "code",
   "execution_count": 7,
   "outputs": [
    {
     "data": {
      "text/plain": "      uniprot_id    neff  sequence_length organism_id  helix_frac  turn_frac  \\\n0         Q72CU1   8.974              100         882        0.00       0.00   \n1         Q7Z4Y8   6.838              100        9606        0.00       0.00   \n2         O66564   6.860              100      224324        0.00       0.00   \n3         P00974  10.002              100        9913        0.12       0.04   \n4         P04815   9.979              100        9913        0.00       0.00   \n...          ...     ...              ...         ...         ...        ...   \n18220     Q8Z9E5   8.688              120       90370        0.00       0.00   \n18221     P59396   8.673              120         623        0.00       0.00   \n18222     Q9C113   1.000              120      284812        0.00       0.00   \n18223     Q9ZDL1  10.920              120      272947        0.00       0.00   \n18224     P39150   5.521              120      224308        0.00       0.00   \n\n       strand_frac  has_ptm  has_pdb  has_substrate  \\\n0             0.00        0        0              1   \n1             0.00        0        0              0   \n2             0.00        0        0              0   \n3             0.26        0        1              0   \n4             0.00        0        0              0   \n...            ...      ...      ...            ...   \n18220         0.00        0        0              0   \n18221         0.00        0        0              0   \n18222         0.00        0        0              0   \n18223         0.00        0        0              0   \n18224         0.00        0        0              0   \n\n                                                sequence  \\\n0      MPRRSYSVIGRVQGVGFRSWTRRTALRLDLRGWVRNEPDGTVRLCA...   \n1      MAPFVRNLVEKTPALVNAAVTYLKPRLAAFWYYTTVELVPPTPAEI...   \n2      MMKRLMAILTAIMPAIAMAAEGEASVAKGLLYLGAGLAIGLAGLGA...   \n3      MKMSRLCLSVALLVLLGTLAASTPGCDTSNQAKAQRPDFCLEPPYT...   \n4      MKMSRLCLSIALLVLLGTLAASTPGCDTSNQAKAQRPDFCLEPPYT...   \n...                                                  ...   \n18220  MDYEFLRDVTGRVLVRMSMGHEVVGHWFNEEVKDNLSLLDEVEQAA...   \n18221  MDYEFLRDITGVVKVRMSMGHEVVGHWFNEEVKENLALLDEVEQAA...   \n18222  MSTSGMLFIFATFCPCFLSCCAFMSHWKLKDFSFRFLRMCGERSLV...   \n18223  MYNKENVFAKIITKNLPAEIIYEDKQILAFKDIAPIAPVHIIVIPK...   \n18224  MKYNYTVLLSAFTMSVLYSVIYIHSFIIAALITMAFYFLFPYLIFA...   \n\n                                      coevolution_matrix  \n0      [[0.0, 1.4237663745880127, 0.5855490565299988,...  \n1      [[0.0, 0.6873002052307129, 0.42835289239883423...  \n2      [[0.0, 0.8953388333320618, 0.5117239952087402,...  \n3      [[0.0, 0.5660315752029419, 0.4849279820919037,...  \n4      [[0.0, 0.53709876537323, 0.4296616017818451, 0...  \n...                                                  ...  \n18220  [[0.0, 0.3508322238922119, 0.3283595144748688,...  \n18221  [[0.0, 0.3737853169441223, 0.34479671716690063...  \n18222  [[0.0, 9.313225746154785e-09, 1.30385160446167...  \n18223  [[0.0, 1.3557476997375488, 0.9216346740722656,...  \n18224  [[0.0, 0.07362286001443863, 0.0470521003007888...  \n\n[18225 rows x 12 columns]",
      "text/html": "<div>\n<style scoped>\n    .dataframe tbody tr th:only-of-type {\n        vertical-align: middle;\n    }\n\n    .dataframe tbody tr th {\n        vertical-align: top;\n    }\n\n    .dataframe thead th {\n        text-align: right;\n    }\n</style>\n<table border=\"1\" class=\"dataframe\">\n  <thead>\n    <tr style=\"text-align: right;\">\n      <th></th>\n      <th>uniprot_id</th>\n      <th>neff</th>\n      <th>sequence_length</th>\n      <th>organism_id</th>\n      <th>helix_frac</th>\n      <th>turn_frac</th>\n      <th>strand_frac</th>\n      <th>has_ptm</th>\n      <th>has_pdb</th>\n      <th>has_substrate</th>\n      <th>sequence</th>\n      <th>coevolution_matrix</th>\n    </tr>\n  </thead>\n  <tbody>\n    <tr>\n      <th>0</th>\n      <td>Q72CU1</td>\n      <td>8.974</td>\n      <td>100</td>\n      <td>882</td>\n      <td>0.00</td>\n      <td>0.00</td>\n      <td>0.00</td>\n      <td>0</td>\n      <td>0</td>\n      <td>1</td>\n      <td>MPRRSYSVIGRVQGVGFRSWTRRTALRLDLRGWVRNEPDGTVRLCA...</td>\n      <td>[[0.0, 1.4237663745880127, 0.5855490565299988,...</td>\n    </tr>\n    <tr>\n      <th>1</th>\n      <td>Q7Z4Y8</td>\n      <td>6.838</td>\n      <td>100</td>\n      <td>9606</td>\n      <td>0.00</td>\n      <td>0.00</td>\n      <td>0.00</td>\n      <td>0</td>\n      <td>0</td>\n      <td>0</td>\n      <td>MAPFVRNLVEKTPALVNAAVTYLKPRLAAFWYYTTVELVPPTPAEI...</td>\n      <td>[[0.0, 0.6873002052307129, 0.42835289239883423...</td>\n    </tr>\n    <tr>\n      <th>2</th>\n      <td>O66564</td>\n      <td>6.860</td>\n      <td>100</td>\n      <td>224324</td>\n      <td>0.00</td>\n      <td>0.00</td>\n      <td>0.00</td>\n      <td>0</td>\n      <td>0</td>\n      <td>0</td>\n      <td>MMKRLMAILTAIMPAIAMAAEGEASVAKGLLYLGAGLAIGLAGLGA...</td>\n      <td>[[0.0, 0.8953388333320618, 0.5117239952087402,...</td>\n    </tr>\n    <tr>\n      <th>3</th>\n      <td>P00974</td>\n      <td>10.002</td>\n      <td>100</td>\n      <td>9913</td>\n      <td>0.12</td>\n      <td>0.04</td>\n      <td>0.26</td>\n      <td>0</td>\n      <td>1</td>\n      <td>0</td>\n      <td>MKMSRLCLSVALLVLLGTLAASTPGCDTSNQAKAQRPDFCLEPPYT...</td>\n      <td>[[0.0, 0.5660315752029419, 0.4849279820919037,...</td>\n    </tr>\n    <tr>\n      <th>4</th>\n      <td>P04815</td>\n      <td>9.979</td>\n      <td>100</td>\n      <td>9913</td>\n      <td>0.00</td>\n      <td>0.00</td>\n      <td>0.00</td>\n      <td>0</td>\n      <td>0</td>\n      <td>0</td>\n      <td>MKMSRLCLSIALLVLLGTLAASTPGCDTSNQAKAQRPDFCLEPPYT...</td>\n      <td>[[0.0, 0.53709876537323, 0.4296616017818451, 0...</td>\n    </tr>\n    <tr>\n      <th>...</th>\n      <td>...</td>\n      <td>...</td>\n      <td>...</td>\n      <td>...</td>\n      <td>...</td>\n      <td>...</td>\n      <td>...</td>\n      <td>...</td>\n      <td>...</td>\n      <td>...</td>\n      <td>...</td>\n      <td>...</td>\n    </tr>\n    <tr>\n      <th>18220</th>\n      <td>Q8Z9E5</td>\n      <td>8.688</td>\n      <td>120</td>\n      <td>90370</td>\n      <td>0.00</td>\n      <td>0.00</td>\n      <td>0.00</td>\n      <td>0</td>\n      <td>0</td>\n      <td>0</td>\n      <td>MDYEFLRDVTGRVLVRMSMGHEVVGHWFNEEVKDNLSLLDEVEQAA...</td>\n      <td>[[0.0, 0.3508322238922119, 0.3283595144748688,...</td>\n    </tr>\n    <tr>\n      <th>18221</th>\n      <td>P59396</td>\n      <td>8.673</td>\n      <td>120</td>\n      <td>623</td>\n      <td>0.00</td>\n      <td>0.00</td>\n      <td>0.00</td>\n      <td>0</td>\n      <td>0</td>\n      <td>0</td>\n      <td>MDYEFLRDITGVVKVRMSMGHEVVGHWFNEEVKENLALLDEVEQAA...</td>\n      <td>[[0.0, 0.3737853169441223, 0.34479671716690063...</td>\n    </tr>\n    <tr>\n      <th>18222</th>\n      <td>Q9C113</td>\n      <td>1.000</td>\n      <td>120</td>\n      <td>284812</td>\n      <td>0.00</td>\n      <td>0.00</td>\n      <td>0.00</td>\n      <td>0</td>\n      <td>0</td>\n      <td>0</td>\n      <td>MSTSGMLFIFATFCPCFLSCCAFMSHWKLKDFSFRFLRMCGERSLV...</td>\n      <td>[[0.0, 9.313225746154785e-09, 1.30385160446167...</td>\n    </tr>\n    <tr>\n      <th>18223</th>\n      <td>Q9ZDL1</td>\n      <td>10.920</td>\n      <td>120</td>\n      <td>272947</td>\n      <td>0.00</td>\n      <td>0.00</td>\n      <td>0.00</td>\n      <td>0</td>\n      <td>0</td>\n      <td>0</td>\n      <td>MYNKENVFAKIITKNLPAEIIYEDKQILAFKDIAPIAPVHIIVIPK...</td>\n      <td>[[0.0, 1.3557476997375488, 0.9216346740722656,...</td>\n    </tr>\n    <tr>\n      <th>18224</th>\n      <td>P39150</td>\n      <td>5.521</td>\n      <td>120</td>\n      <td>224308</td>\n      <td>0.00</td>\n      <td>0.00</td>\n      <td>0.00</td>\n      <td>0</td>\n      <td>0</td>\n      <td>0</td>\n      <td>MKYNYTVLLSAFTMSVLYSVIYIHSFIIAALITMAFYFLFPYLIFA...</td>\n      <td>[[0.0, 0.07362286001443863, 0.0470521003007888...</td>\n    </tr>\n  </tbody>\n</table>\n<p>18225 rows × 12 columns</p>\n</div>"
     },
     "execution_count": 7,
     "metadata": {},
     "output_type": "execute_result"
    }
   ],
   "source": [
    "pycom.load_matrices(r, max_load=20000)\n"
   ],
   "metadata": {
    "collapsed": false,
    "ExecuteTime": {
     "end_time": "2023-07-06T17:01:00.456586Z",
     "start_time": "2023-07-06T17:00:32.801539Z"
    }
   }
  }
 ],
 "metadata": {
  "kernelspec": {
   "display_name": "Python 3",
   "language": "python",
   "name": "python3"
  },
  "language_info": {
   "codemirror_mode": {
    "name": "ipython",
    "version": 2
   },
   "file_extension": ".py",
   "mimetype": "text/x-python",
   "name": "python",
   "nbconvert_exporter": "python",
   "pygments_lexer": "ipython2",
   "version": "2.7.6"
  }
 },
 "nbformat": 4,
 "nbformat_minor": 0
}
