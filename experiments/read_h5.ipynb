{
 "cells": [
  {
   "cell_type": "code",
   "execution_count": 1,
   "metadata": {
    "collapsed": true,
    "ExecuteTime": {
     "end_time": "2023-07-06T11:02:43.926529Z",
     "start_time": "2023-07-06T11:02:43.696793Z"
    }
   },
   "outputs": [],
   "source": [
    "import os\n",
    "import h5py\n",
    "\n",
    "h5_path = os.path.expanduser('~/DocumentsLocal/mat.h5')\n",
    "\n",
    "f: h5py.File = h5py.File(h5_path, 'r')"
   ]
  },
  {
   "cell_type": "code",
   "execution_count": 2,
   "metadata": {
    "ExecuteTime": {
     "end_time": "2023-07-06T11:03:02.770431Z",
     "start_time": "2023-07-06T11:03:02.768754Z"
    }
   },
   "outputs": [],
   "source": [
    "keys: list = list(f.keys())"
   ]
  },
  {
   "cell_type": "code",
   "execution_count": 3,
   "metadata": {
    "ExecuteTime": {
     "end_time": "2023-07-06T11:03:02.773068Z",
     "start_time": "2023-07-06T11:03:02.771025Z"
    }
   },
   "outputs": [
    {
     "name": "stdout",
     "output_type": "stream",
     "text": [
      "00001508eba3f78863a4f9cb2463810d\n"
     ]
    }
   ],
   "source": [
    "print(keys[0])"
   ]
  },
  {
   "cell_type": "code",
   "execution_count": 58,
   "metadata": {
    "collapsed": false,
    "ExecuteTime": {
     "end_time": "2023-07-06T11:07:44.565642Z",
     "start_time": "2023-07-06T11:07:44.561834Z"
    }
   },
   "outputs": [
    {
     "name": "stdout",
     "output_type": "stream",
     "text": [
      "be84ee8fc633a0c77b2a5af4feaa989b\n",
      "<KeysViewHDF5 ['entryId', 'neff', 'seq', 'seqLen']>\n"
     ]
    }
   ],
   "source": [
    "import random\n",
    "sample_key = keys[random.randint(0, len(keys))]\n",
    "print(sample_key)\n",
    "\n",
    "sample: h5py.Dataset = f[sample_key]\n",
    "print(sample.attrs.keys())"
   ]
  },
  {
   "cell_type": "code",
   "execution_count": 78,
   "metadata": {
    "ExecuteTime": {
     "end_time": "2023-07-06T11:16:57.881230Z",
     "start_time": "2023-07-06T11:16:57.875281Z"
    }
   },
   "outputs": [],
   "source": [
    "import pandas as pd\n",
    "import numpy as np\n",
    "\n",
    "df = pd.DataFrame(sample)"
   ]
  },
  {
   "cell_type": "code",
   "execution_count": 83,
   "outputs": [
    {
     "data": {
      "text/plain": "          0         1         2         3         4         5         6    \\\n0    0.000000  0.390453  0.356717  0.310113  0.295144  0.337688  0.312088   \n1    0.390453  0.000000  0.856654  0.411897  0.395279  0.272106  0.294112   \n2    0.356717  0.856654  0.000000  0.494305  0.416439  0.223087  0.264930   \n3    0.310113  0.411897  0.494305  0.000000  1.211225  1.513488  0.738490   \n4    0.295144  0.395279  0.416439  1.211225  0.000000  1.257199  0.615301   \n..        ...       ...       ...       ...       ...       ...       ...   \n124  0.298833  0.349234  0.304215  0.314844  0.585024  0.386837  0.248881   \n125  0.321723  0.350445  0.410385  0.231108  1.297382  0.508643  0.251995   \n126  0.324265  0.363052  0.405984  0.311783  0.361264  0.261899  0.384326   \n127  0.319843  0.380899  0.461273  0.434327  0.442062  0.412969  0.471351   \n128  0.342435  0.328974  0.318064  0.307861  0.304380  0.347315  0.313782   \n\n          7         8         9    ...       119       120       121  \\\n0    0.310308  0.325681  0.306335  ...  0.330505  0.326710  0.388414   \n1    0.291877  0.299621  0.291345  ...  0.310188  0.395451  0.273537   \n2    0.269171  0.341950  0.328715  ...  0.326155  0.374616  0.242737   \n3    0.510592  0.495573  0.460694  ...  0.432828  0.320126  0.270051   \n4    0.951831  0.556111  0.392736  ...  0.401400  0.363029  0.329618   \n..        ...       ...       ...  ...       ...       ...       ...   \n124  0.343583  0.306520  0.402420  ...  0.268283  0.934394  0.948543   \n125  0.187667  0.356384  0.262174  ...  0.228806  0.496310  0.844596   \n126  0.341442  0.322456  0.324296  ...  0.485839  0.422068  0.315890   \n127  0.285491  0.263280  0.344882  ...  0.420071  0.414905  0.152078   \n128  0.328101  0.350270  0.329860  ...  0.336670  0.330538  0.375425   \n\n          122       123       124       125       126       127       128  \n0    0.306949  0.322757  0.298833  0.321723  0.324265  0.319843  0.342435  \n1    0.349794  0.336000  0.349234  0.350445  0.363051  0.380899  0.328974  \n2    0.407574  0.290663  0.304215  0.410385  0.405983  0.461273  0.318064  \n3    0.644365  0.359076  0.314844  0.231108  0.311784  0.434327  0.307861  \n4    1.260005  0.352319  0.585024  1.297382  0.361264  0.442061  0.304380  \n..        ...       ...       ...       ...       ...       ...       ...  \n124  0.789221  0.723755  0.000000  1.358455  0.758956  1.011266  0.285617  \n125  0.872878  0.479960  1.358455  0.000000  1.200373  0.976901  0.314826  \n126  2.045001  1.596808  0.758956  1.200373  0.000000  1.166745  0.320343  \n127  0.493212  1.217094  1.011266  0.976902  1.166745  0.000000  0.328271  \n128  0.312820  0.336885  0.285617  0.314826  0.320343  0.328271  0.000000  \n\n[129 rows x 129 columns]",
      "text/html": "<div>\n<style scoped>\n    .dataframe tbody tr th:only-of-type {\n        vertical-align: middle;\n    }\n\n    .dataframe tbody tr th {\n        vertical-align: top;\n    }\n\n    .dataframe thead th {\n        text-align: right;\n    }\n</style>\n<table border=\"1\" class=\"dataframe\">\n  <thead>\n    <tr style=\"text-align: right;\">\n      <th></th>\n      <th>0</th>\n      <th>1</th>\n      <th>2</th>\n      <th>3</th>\n      <th>4</th>\n      <th>5</th>\n      <th>6</th>\n      <th>7</th>\n      <th>8</th>\n      <th>9</th>\n      <th>...</th>\n      <th>119</th>\n      <th>120</th>\n      <th>121</th>\n      <th>122</th>\n      <th>123</th>\n      <th>124</th>\n      <th>125</th>\n      <th>126</th>\n      <th>127</th>\n      <th>128</th>\n    </tr>\n  </thead>\n  <tbody>\n    <tr>\n      <th>0</th>\n      <td>0.000000</td>\n      <td>0.390453</td>\n      <td>0.356717</td>\n      <td>0.310113</td>\n      <td>0.295144</td>\n      <td>0.337688</td>\n      <td>0.312088</td>\n      <td>0.310308</td>\n      <td>0.325681</td>\n      <td>0.306335</td>\n      <td>...</td>\n      <td>0.330505</td>\n      <td>0.326710</td>\n      <td>0.388414</td>\n      <td>0.306949</td>\n      <td>0.322757</td>\n      <td>0.298833</td>\n      <td>0.321723</td>\n      <td>0.324265</td>\n      <td>0.319843</td>\n      <td>0.342435</td>\n    </tr>\n    <tr>\n      <th>1</th>\n      <td>0.390453</td>\n      <td>0.000000</td>\n      <td>0.856654</td>\n      <td>0.411897</td>\n      <td>0.395279</td>\n      <td>0.272106</td>\n      <td>0.294112</td>\n      <td>0.291877</td>\n      <td>0.299621</td>\n      <td>0.291345</td>\n      <td>...</td>\n      <td>0.310188</td>\n      <td>0.395451</td>\n      <td>0.273537</td>\n      <td>0.349794</td>\n      <td>0.336000</td>\n      <td>0.349234</td>\n      <td>0.350445</td>\n      <td>0.363051</td>\n      <td>0.380899</td>\n      <td>0.328974</td>\n    </tr>\n    <tr>\n      <th>2</th>\n      <td>0.356717</td>\n      <td>0.856654</td>\n      <td>0.000000</td>\n      <td>0.494305</td>\n      <td>0.416439</td>\n      <td>0.223087</td>\n      <td>0.264930</td>\n      <td>0.269171</td>\n      <td>0.341950</td>\n      <td>0.328715</td>\n      <td>...</td>\n      <td>0.326155</td>\n      <td>0.374616</td>\n      <td>0.242737</td>\n      <td>0.407574</td>\n      <td>0.290663</td>\n      <td>0.304215</td>\n      <td>0.410385</td>\n      <td>0.405983</td>\n      <td>0.461273</td>\n      <td>0.318064</td>\n    </tr>\n    <tr>\n      <th>3</th>\n      <td>0.310113</td>\n      <td>0.411897</td>\n      <td>0.494305</td>\n      <td>0.000000</td>\n      <td>1.211225</td>\n      <td>1.513488</td>\n      <td>0.738490</td>\n      <td>0.510592</td>\n      <td>0.495573</td>\n      <td>0.460694</td>\n      <td>...</td>\n      <td>0.432828</td>\n      <td>0.320126</td>\n      <td>0.270051</td>\n      <td>0.644365</td>\n      <td>0.359076</td>\n      <td>0.314844</td>\n      <td>0.231108</td>\n      <td>0.311784</td>\n      <td>0.434327</td>\n      <td>0.307861</td>\n    </tr>\n    <tr>\n      <th>4</th>\n      <td>0.295144</td>\n      <td>0.395279</td>\n      <td>0.416439</td>\n      <td>1.211225</td>\n      <td>0.000000</td>\n      <td>1.257199</td>\n      <td>0.615301</td>\n      <td>0.951831</td>\n      <td>0.556111</td>\n      <td>0.392736</td>\n      <td>...</td>\n      <td>0.401400</td>\n      <td>0.363029</td>\n      <td>0.329618</td>\n      <td>1.260005</td>\n      <td>0.352319</td>\n      <td>0.585024</td>\n      <td>1.297382</td>\n      <td>0.361264</td>\n      <td>0.442061</td>\n      <td>0.304380</td>\n    </tr>\n    <tr>\n      <th>...</th>\n      <td>...</td>\n      <td>...</td>\n      <td>...</td>\n      <td>...</td>\n      <td>...</td>\n      <td>...</td>\n      <td>...</td>\n      <td>...</td>\n      <td>...</td>\n      <td>...</td>\n      <td>...</td>\n      <td>...</td>\n      <td>...</td>\n      <td>...</td>\n      <td>...</td>\n      <td>...</td>\n      <td>...</td>\n      <td>...</td>\n      <td>...</td>\n      <td>...</td>\n      <td>...</td>\n    </tr>\n    <tr>\n      <th>124</th>\n      <td>0.298833</td>\n      <td>0.349234</td>\n      <td>0.304215</td>\n      <td>0.314844</td>\n      <td>0.585024</td>\n      <td>0.386837</td>\n      <td>0.248881</td>\n      <td>0.343583</td>\n      <td>0.306520</td>\n      <td>0.402420</td>\n      <td>...</td>\n      <td>0.268283</td>\n      <td>0.934394</td>\n      <td>0.948543</td>\n      <td>0.789221</td>\n      <td>0.723755</td>\n      <td>0.000000</td>\n      <td>1.358455</td>\n      <td>0.758956</td>\n      <td>1.011266</td>\n      <td>0.285617</td>\n    </tr>\n    <tr>\n      <th>125</th>\n      <td>0.321723</td>\n      <td>0.350445</td>\n      <td>0.410385</td>\n      <td>0.231108</td>\n      <td>1.297382</td>\n      <td>0.508643</td>\n      <td>0.251995</td>\n      <td>0.187667</td>\n      <td>0.356384</td>\n      <td>0.262174</td>\n      <td>...</td>\n      <td>0.228806</td>\n      <td>0.496310</td>\n      <td>0.844596</td>\n      <td>0.872878</td>\n      <td>0.479960</td>\n      <td>1.358455</td>\n      <td>0.000000</td>\n      <td>1.200373</td>\n      <td>0.976901</td>\n      <td>0.314826</td>\n    </tr>\n    <tr>\n      <th>126</th>\n      <td>0.324265</td>\n      <td>0.363052</td>\n      <td>0.405984</td>\n      <td>0.311783</td>\n      <td>0.361264</td>\n      <td>0.261899</td>\n      <td>0.384326</td>\n      <td>0.341442</td>\n      <td>0.322456</td>\n      <td>0.324296</td>\n      <td>...</td>\n      <td>0.485839</td>\n      <td>0.422068</td>\n      <td>0.315890</td>\n      <td>2.045001</td>\n      <td>1.596808</td>\n      <td>0.758956</td>\n      <td>1.200373</td>\n      <td>0.000000</td>\n      <td>1.166745</td>\n      <td>0.320343</td>\n    </tr>\n    <tr>\n      <th>127</th>\n      <td>0.319843</td>\n      <td>0.380899</td>\n      <td>0.461273</td>\n      <td>0.434327</td>\n      <td>0.442062</td>\n      <td>0.412969</td>\n      <td>0.471351</td>\n      <td>0.285491</td>\n      <td>0.263280</td>\n      <td>0.344882</td>\n      <td>...</td>\n      <td>0.420071</td>\n      <td>0.414905</td>\n      <td>0.152078</td>\n      <td>0.493212</td>\n      <td>1.217094</td>\n      <td>1.011266</td>\n      <td>0.976902</td>\n      <td>1.166745</td>\n      <td>0.000000</td>\n      <td>0.328271</td>\n    </tr>\n    <tr>\n      <th>128</th>\n      <td>0.342435</td>\n      <td>0.328974</td>\n      <td>0.318064</td>\n      <td>0.307861</td>\n      <td>0.304380</td>\n      <td>0.347315</td>\n      <td>0.313782</td>\n      <td>0.328101</td>\n      <td>0.350270</td>\n      <td>0.329860</td>\n      <td>...</td>\n      <td>0.336670</td>\n      <td>0.330538</td>\n      <td>0.375425</td>\n      <td>0.312820</td>\n      <td>0.336885</td>\n      <td>0.285617</td>\n      <td>0.314826</td>\n      <td>0.320343</td>\n      <td>0.328271</td>\n      <td>0.000000</td>\n    </tr>\n  </tbody>\n</table>\n<p>129 rows × 129 columns</p>\n</div>"
     },
     "execution_count": 83,
     "metadata": {},
     "output_type": "execute_result"
    }
   ],
   "source": [],
   "metadata": {
    "collapsed": false,
    "ExecuteTime": {
     "end_time": "2023-07-06T11:17:51.912119Z",
     "start_time": "2023-07-06T11:17:51.910121Z"
    }
   }
  },
  {
   "cell_type": "code",
   "execution_count": null,
   "outputs": [],
   "source": [],
   "metadata": {
    "collapsed": false
   }
  }
 ],
 "metadata": {
  "kernelspec": {
   "display_name": "Python 3 (ipykernel)",
   "language": "python",
   "name": "python3"
  },
  "language_info": {
   "codemirror_mode": {
    "name": "ipython",
    "version": 3
   },
   "file_extension": ".py",
   "mimetype": "text/x-python",
   "name": "python",
   "nbconvert_exporter": "python",
   "pygments_lexer": "ipython3",
   "version": "3.10.10"
  }
 },
 "nbformat": 4,
 "nbformat_minor": 0
}
