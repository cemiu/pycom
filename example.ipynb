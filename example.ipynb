{
 "cells": [
  {
   "cell_type": "markdown",
   "metadata": {},
   "source": [
    "Import the required functions and create a PyCom object:"
   ]
  },
  {
   "cell_type": "code",
   "execution_count": 1,
   "metadata": {
    "ExecuteTime": {
     "end_time": "2023-07-09T20:41:13.302353Z",
     "start_time": "2023-07-09T20:41:12.941925Z"
    }
   },
   "outputs": [],
   "source": [
    "from pycom import PyCom, ProteinParams\n",
    "\n",
    "pyc = PyCom(db_path='~/docs/pycom.db', mat_path='~/docs/pycom.mat')"
   ]
  },
  {
   "cell_type": "markdown",
   "metadata": {},
   "source": [
    "Query the database by passing a dictionary of conditions:"
   ]
  },
  {
   "cell_type": "code",
   "execution_count": 2,
   "metadata": {
    "ExecuteTime": {
     "end_time": "2023-07-09T20:41:13.356894Z",
     "start_time": "2023-07-09T20:41:13.303247Z"
    }
   },
   "outputs": [
    {
     "data": {
      "text/html": [
       "<div>\n",
       "<style scoped>\n",
       "    .dataframe tbody tr th:only-of-type {\n",
       "        vertical-align: middle;\n",
       "    }\n",
       "\n",
       "    .dataframe tbody tr th {\n",
       "        vertical-align: top;\n",
       "    }\n",
       "\n",
       "    .dataframe thead th {\n",
       "        text-align: right;\n",
       "    }\n",
       "</style>\n",
       "<table border=\"1\" class=\"dataframe\">\n",
       "  <thead>\n",
       "    <tr style=\"text-align: right;\">\n",
       "      <th></th>\n",
       "      <th>uniprot_id</th>\n",
       "      <th>neff</th>\n",
       "      <th>sequence_length</th>\n",
       "      <th>organism_id</th>\n",
       "      <th>helix_frac</th>\n",
       "      <th>turn_frac</th>\n",
       "      <th>strand_frac</th>\n",
       "      <th>has_ptm</th>\n",
       "      <th>has_pdb</th>\n",
       "      <th>has_substrate</th>\n",
       "      <th>sequence</th>\n",
       "      <th>matrix</th>\n",
       "    </tr>\n",
       "  </thead>\n",
       "  <tbody>\n",
       "    <tr>\n",
       "      <th>0</th>\n",
       "      <td>P01111</td>\n",
       "      <td>12.817</td>\n",
       "      <td>189</td>\n",
       "      <td>9606</td>\n",
       "      <td>0.349206</td>\n",
       "      <td>0.015873</td>\n",
       "      <td>0.227513</td>\n",
       "      <td>1</td>\n",
       "      <td>1</td>\n",
       "      <td>1</td>\n",
       "      <td>MTEYKLVVVGAGGVGKSALTIQLIQNHFVDEYDPTIEDSYRKQVVI...</td>\n",
       "      <td>None</td>\n",
       "    </tr>\n",
       "    <tr>\n",
       "      <th>1</th>\n",
       "      <td>P01112</td>\n",
       "      <td>12.841</td>\n",
       "      <td>189</td>\n",
       "      <td>9606</td>\n",
       "      <td>0.317460</td>\n",
       "      <td>0.031746</td>\n",
       "      <td>0.359788</td>\n",
       "      <td>1</td>\n",
       "      <td>1</td>\n",
       "      <td>1</td>\n",
       "      <td>MTEYKLVVVGAGGVGKSALTIQLIQNHFVDEYDPTIEDSYRKQVVI...</td>\n",
       "      <td>None</td>\n",
       "    </tr>\n",
       "    <tr>\n",
       "      <th>2</th>\n",
       "      <td>P01116</td>\n",
       "      <td>12.626</td>\n",
       "      <td>189</td>\n",
       "      <td>9606</td>\n",
       "      <td>0.375661</td>\n",
       "      <td>0.031746</td>\n",
       "      <td>0.328042</td>\n",
       "      <td>1</td>\n",
       "      <td>1</td>\n",
       "      <td>1</td>\n",
       "      <td>MTEYKLVVVGAGGVGKSALTIQLIQNHFVDEYDPTIEDSYRKQVVI...</td>\n",
       "      <td>None</td>\n",
       "    </tr>\n",
       "    <tr>\n",
       "      <th>3</th>\n",
       "      <td>P62070</td>\n",
       "      <td>12.754</td>\n",
       "      <td>204</td>\n",
       "      <td>9606</td>\n",
       "      <td>0.299020</td>\n",
       "      <td>0.019608</td>\n",
       "      <td>0.220588</td>\n",
       "      <td>1</td>\n",
       "      <td>1</td>\n",
       "      <td>1</td>\n",
       "      <td>MAAAGWRDGSGQEKYRLVVVGGGGVGKSALTIQFIQSYFVTDYDPT...</td>\n",
       "      <td>None</td>\n",
       "    </tr>\n",
       "    <tr>\n",
       "      <th>4</th>\n",
       "      <td>Q9UNW1</td>\n",
       "      <td>9.554</td>\n",
       "      <td>487</td>\n",
       "      <td>9606</td>\n",
       "      <td>0.000000</td>\n",
       "      <td>0.000000</td>\n",
       "      <td>0.000000</td>\n",
       "      <td>0</td>\n",
       "      <td>0</td>\n",
       "      <td>1</td>\n",
       "      <td>MLRAPGCLLRTSVAPAAALAAALLSSLARCSLLEPRDPVASSLSPY...</td>\n",
       "      <td>None</td>\n",
       "    </tr>\n",
       "  </tbody>\n",
       "</table>\n",
       "</div>"
      ],
      "text/plain": [
       "  uniprot_id    neff  sequence_length organism_id  helix_frac  turn_frac  \\\n",
       "0     P01111  12.817              189        9606    0.349206   0.015873   \n",
       "1     P01112  12.841              189        9606    0.317460   0.031746   \n",
       "2     P01116  12.626              189        9606    0.375661   0.031746   \n",
       "3     P62070  12.754              204        9606    0.299020   0.019608   \n",
       "4     Q9UNW1   9.554              487        9606    0.000000   0.000000   \n",
       "\n",
       "   strand_frac  has_ptm  has_pdb  has_substrate  \\\n",
       "0     0.227513        1        1              1   \n",
       "1     0.359788        1        1              1   \n",
       "2     0.328042        1        1              1   \n",
       "3     0.220588        1        1              1   \n",
       "4     0.000000        0        0              1   \n",
       "\n",
       "                                            sequence matrix  \n",
       "0  MTEYKLVVVGAGGVGKSALTIQLIQNHFVDEYDPTIEDSYRKQVVI...   None  \n",
       "1  MTEYKLVVVGAGGVGKSALTIQLIQNHFVDEYDPTIEDSYRKQVVI...   None  \n",
       "2  MTEYKLVVVGAGGVGKSALTIQLIQNHFVDEYDPTIEDSYRKQVVI...   None  \n",
       "3  MAAAGWRDGSGQEKYRLVVVGGGGVGKSALTIQFIQSYFVTDYDPT...   None  \n",
       "4  MLRAPGCLLRTSVAPAAALAAALLSSLARCSLLEPRDPVASSLSPY...   None  "
      ]
     },
     "execution_count": 2,
     "metadata": {},
     "output_type": "execute_result"
    }
   ],
   "source": [
    "entries = pyc.find({\n",
    "    ProteinParams.ENZYME: '3.*.*.*',\n",
    "    ProteinParams.DISEASE: 'cancer',  # string search, case-insensitive\n",
    "})\n",
    "\n",
    "entries"
   ]
  },
  {
   "cell_type": "markdown",
   "metadata": {},
   "source": [
    "Alternatively, query the database by passing keyword arguments:"
   ]
  },
  {
   "cell_type": "code",
   "execution_count": 3,
   "metadata": {
    "ExecuteTime": {
     "end_time": "2023-07-09T20:41:13.407806Z",
     "start_time": "2023-07-09T20:41:13.357633Z"
    }
   },
   "outputs": [
    {
     "data": {
      "text/html": [
       "<div>\n",
       "<style scoped>\n",
       "    .dataframe tbody tr th:only-of-type {\n",
       "        vertical-align: middle;\n",
       "    }\n",
       "\n",
       "    .dataframe tbody tr th {\n",
       "        vertical-align: top;\n",
       "    }\n",
       "\n",
       "    .dataframe thead th {\n",
       "        text-align: right;\n",
       "    }\n",
       "</style>\n",
       "<table border=\"1\" class=\"dataframe\">\n",
       "  <thead>\n",
       "    <tr style=\"text-align: right;\">\n",
       "      <th></th>\n",
       "      <th>uniprot_id</th>\n",
       "      <th>neff</th>\n",
       "      <th>sequence_length</th>\n",
       "      <th>organism_id</th>\n",
       "      <th>helix_frac</th>\n",
       "      <th>turn_frac</th>\n",
       "      <th>strand_frac</th>\n",
       "      <th>has_ptm</th>\n",
       "      <th>has_pdb</th>\n",
       "      <th>has_substrate</th>\n",
       "      <th>sequence</th>\n",
       "      <th>matrix</th>\n",
       "    </tr>\n",
       "  </thead>\n",
       "  <tbody>\n",
       "    <tr>\n",
       "      <th>0</th>\n",
       "      <td>P11310</td>\n",
       "      <td>9.930</td>\n",
       "      <td>421</td>\n",
       "      <td>9606</td>\n",
       "      <td>0.517815</td>\n",
       "      <td>0.016627</td>\n",
       "      <td>0.180523</td>\n",
       "      <td>1</td>\n",
       "      <td>1</td>\n",
       "      <td>1</td>\n",
       "      <td>MAAGFGRCCRVLRSISRFHWRSQHTKANRQREPGLGFSFEFTEQQK...</td>\n",
       "      <td>None</td>\n",
       "    </tr>\n",
       "    <tr>\n",
       "      <th>1</th>\n",
       "      <td>Q658P3</td>\n",
       "      <td>9.677</td>\n",
       "      <td>488</td>\n",
       "      <td>9606</td>\n",
       "      <td>0.157787</td>\n",
       "      <td>0.000000</td>\n",
       "      <td>0.086066</td>\n",
       "      <td>1</td>\n",
       "      <td>1</td>\n",
       "      <td>0</td>\n",
       "      <td>MPEEMDKPLISLHLVDSDSSLAKVPDEAPKVGILGSGDFARSLATR...</td>\n",
       "      <td>None</td>\n",
       "    </tr>\n",
       "    <tr>\n",
       "      <th>2</th>\n",
       "      <td>Q16795</td>\n",
       "      <td>10.997</td>\n",
       "      <td>377</td>\n",
       "      <td>9606</td>\n",
       "      <td>0.363395</td>\n",
       "      <td>0.037135</td>\n",
       "      <td>0.124668</td>\n",
       "      <td>1</td>\n",
       "      <td>1</td>\n",
       "      <td>0</td>\n",
       "      <td>MAAAAQSRVVRVLSMSRSAITAIATSVCHGPPCRQLHHALMPHGKG...</td>\n",
       "      <td>None</td>\n",
       "    </tr>\n",
       "    <tr>\n",
       "      <th>3</th>\n",
       "      <td>O95299</td>\n",
       "      <td>9.244</td>\n",
       "      <td>355</td>\n",
       "      <td>9606</td>\n",
       "      <td>0.000000</td>\n",
       "      <td>0.000000</td>\n",
       "      <td>0.000000</td>\n",
       "      <td>1</td>\n",
       "      <td>1</td>\n",
       "      <td>0</td>\n",
       "      <td>MALRLLKLAATSASARVVAAGAQRVRGIHSSVQCKLRYGMWHFLLG...</td>\n",
       "      <td>None</td>\n",
       "    </tr>\n",
       "    <tr>\n",
       "      <th>4</th>\n",
       "      <td>P13804</td>\n",
       "      <td>8.627</td>\n",
       "      <td>333</td>\n",
       "      <td>9606</td>\n",
       "      <td>0.300300</td>\n",
       "      <td>0.027027</td>\n",
       "      <td>0.333333</td>\n",
       "      <td>1</td>\n",
       "      <td>1</td>\n",
       "      <td>0</td>\n",
       "      <td>MFRAAAPGQLRRAASLLRFQSTLVIAEHANDSLAPITLNTITAATR...</td>\n",
       "      <td>None</td>\n",
       "    </tr>\n",
       "  </tbody>\n",
       "</table>\n",
       "</div>"
      ],
      "text/plain": [
       "  uniprot_id    neff  sequence_length organism_id  helix_frac  turn_frac  \\\n",
       "0     P11310   9.930              421        9606    0.517815   0.016627   \n",
       "1     Q658P3   9.677              488        9606    0.157787   0.000000   \n",
       "2     Q16795  10.997              377        9606    0.363395   0.037135   \n",
       "3     O95299   9.244              355        9606    0.000000   0.000000   \n",
       "4     P13804   8.627              333        9606    0.300300   0.027027   \n",
       "\n",
       "   strand_frac  has_ptm  has_pdb  has_substrate  \\\n",
       "0     0.180523        1        1              1   \n",
       "1     0.086066        1        1              0   \n",
       "2     0.124668        1        1              0   \n",
       "3     0.000000        1        1              0   \n",
       "4     0.333333        1        1              0   \n",
       "\n",
       "                                            sequence matrix  \n",
       "0  MAAGFGRCCRVLRSISRFHWRSQHTKANRQREPGLGFSFEFTEQQK...   None  \n",
       "1  MPEEMDKPLISLHLVDSDSSLAKVPDEAPKVGILGSGDFARSLATR...   None  \n",
       "2  MAAAAQSRVVRVLSMSRSAITAIATSVCHGPPCRQLHHALMPHGKG...   None  \n",
       "3  MALRLLKLAATSASARVVAAGAQRVRGIHSSVQCKLRYGMWHFLLG...   None  \n",
       "4  MFRAAAPGQLRRAASLLRFQSTLVIAEHANDSLAPITLNTITAATR...   None  "
      ]
     },
     "execution_count": 3,
     "metadata": {},
     "output_type": "execute_result"
    }
   ],
   "source": [
    "entries = pyc.find(\n",
    "    cofactor='FAD',  # string search, case-insensitive\n",
    "    has_ptm=True,\n",
    "    has_disease=True,\n",
    ")\n",
    "\n",
    "entries"
   ]
  },
  {
   "cell_type": "markdown",
   "metadata": {},
   "source": [
    "Get the lists of available cofactors and diseases:"
   ]
  },
  {
   "cell_type": "code",
   "execution_count": 4,
   "metadata": {
    "ExecuteTime": {
     "end_time": "2023-07-09T20:41:13.427763Z",
     "start_time": "2023-07-09T20:41:13.404162Z"
    }
   },
   "outputs": [
    {
     "data": {
      "text/html": [
       "<div>\n",
       "<style scoped>\n",
       "    .dataframe tbody tr th:only-of-type {\n",
       "        vertical-align: middle;\n",
       "    }\n",
       "\n",
       "    .dataframe tbody tr th {\n",
       "        vertical-align: top;\n",
       "    }\n",
       "\n",
       "    .dataframe thead th {\n",
       "        text-align: right;\n",
       "    }\n",
       "</style>\n",
       "<table border=\"1\" class=\"dataframe\">\n",
       "  <thead>\n",
       "    <tr style=\"text-align: right;\">\n",
       "      <th></th>\n",
       "      <th>cofactorId</th>\n",
       "      <th>cofactorName</th>\n",
       "    </tr>\n",
       "  </thead>\n",
       "  <tbody>\n",
       "    <tr>\n",
       "      <th>0</th>\n",
       "      <td>CHEBI:597326</td>\n",
       "      <td>pyridoxal 5'-phosphate</td>\n",
       "    </tr>\n",
       "    <tr>\n",
       "      <th>1</th>\n",
       "      <td>CHEBI:18420</td>\n",
       "      <td>Mg(2+)</td>\n",
       "    </tr>\n",
       "    <tr>\n",
       "      <th>2</th>\n",
       "      <td>CHEBI:60240</td>\n",
       "      <td>a divalent metal cation</td>\n",
       "    </tr>\n",
       "    <tr>\n",
       "      <th>3</th>\n",
       "      <td>CHEBI:30413</td>\n",
       "      <td>heme</td>\n",
       "    </tr>\n",
       "    <tr>\n",
       "      <th>4</th>\n",
       "      <td>CHEBI:29105</td>\n",
       "      <td>Zn(2+)</td>\n",
       "    </tr>\n",
       "    <tr>\n",
       "      <th>...</th>\n",
       "      <td>...</td>\n",
       "      <td>...</td>\n",
       "    </tr>\n",
       "    <tr>\n",
       "      <th>109</th>\n",
       "      <td>CHEBI:61721</td>\n",
       "      <td>chlorophyll b</td>\n",
       "    </tr>\n",
       "    <tr>\n",
       "      <th>110</th>\n",
       "      <td>CHEBI:73095</td>\n",
       "      <td>divinyl chlorophyll a</td>\n",
       "    </tr>\n",
       "    <tr>\n",
       "      <th>111</th>\n",
       "      <td>CHEBI:73096</td>\n",
       "      <td>divinyl chlorophyll b</td>\n",
       "    </tr>\n",
       "    <tr>\n",
       "      <th>112</th>\n",
       "      <td>CHEBI:57453</td>\n",
       "      <td>(6S)-5,6,7,8-tetrahydrofolate</td>\n",
       "    </tr>\n",
       "    <tr>\n",
       "      <th>113</th>\n",
       "      <td>CHEBI:30402</td>\n",
       "      <td>tungstopterin</td>\n",
       "    </tr>\n",
       "  </tbody>\n",
       "</table>\n",
       "<p>114 rows × 2 columns</p>\n",
       "</div>"
      ],
      "text/plain": [
       "       cofactorId                   cofactorName\n",
       "0    CHEBI:597326         pyridoxal 5'-phosphate\n",
       "1     CHEBI:18420                         Mg(2+)\n",
       "2     CHEBI:60240        a divalent metal cation\n",
       "3     CHEBI:30413                           heme\n",
       "4     CHEBI:29105                         Zn(2+)\n",
       "..            ...                            ...\n",
       "109   CHEBI:61721                  chlorophyll b\n",
       "110   CHEBI:73095          divinyl chlorophyll a\n",
       "111   CHEBI:73096          divinyl chlorophyll b\n",
       "112   CHEBI:57453  (6S)-5,6,7,8-tetrahydrofolate\n",
       "113   CHEBI:30402                  tungstopterin\n",
       "\n",
       "[114 rows x 2 columns]"
      ]
     },
     "execution_count": 4,
     "metadata": {},
     "output_type": "execute_result"
    }
   ],
   "source": [
    "cofactors = pyc.get_cofactor_list()\n",
    "diseases = pyc.get_disease_list()\n",
    "\n",
    "cofactors"
   ]
  },
  {
   "cell_type": "markdown",
   "metadata": {},
   "source": [
    "Make a large query, then paginate the results:"
   ]
  },
  {
   "cell_type": "code",
   "execution_count": 5,
   "metadata": {
    "ExecuteTime": {
     "end_time": "2023-07-09T20:41:13.443478Z",
     "start_time": "2023-07-09T20:41:13.412488Z"
    }
   },
   "outputs": [
    {
     "name": "stdout",
     "output_type": "stream",
     "text": [
      "Found 2958 entries with length <= 20\n",
      "Found 100 entries on page 1\n"
     ]
    }
   ],
   "source": [
    "entries = pyc.find(min_length=5, max_length=20)\n",
    "print(f'Found {len(entries)} entries with length <= 20')\n",
    "\n",
    "page = pyc.paginate(entries, page=1)  # get first n entries (default 100)\n",
    "print(f'Found {len(page)} entries on page 1')"
   ]
  },
  {
   "cell_type": "markdown",
   "metadata": {},
   "source": [
    "Load the coevolution matrices for a dataframe of entries:"
   ]
  },
  {
   "cell_type": "code",
   "execution_count": 7,
   "metadata": {
    "ExecuteTime": {
     "end_time": "2023-07-09T20:41:55.379068Z",
     "start_time": "2023-07-09T20:41:55.328490Z"
    }
   },
   "outputs": [
    {
     "data": {
      "text/plain": [
       "array([[0.00000000e+00, 2.16066837e-07, 1.56462193e-07, 0.00000000e+00,\n",
       "        0.00000000e+00],\n",
       "       [2.16066837e-07, 0.00000000e+00, 4.61935997e-07, 4.54485416e-07,\n",
       "        4.54485416e-07],\n",
       "       [1.56462193e-07, 4.61935997e-07, 0.00000000e+00, 2.98023224e-07,\n",
       "        2.98023224e-07],\n",
       "       [0.00000000e+00, 4.54485416e-07, 2.98023224e-07, 0.00000000e+00,\n",
       "        2.23517418e-07],\n",
       "       [0.00000000e+00, 4.54485416e-07, 2.98023224e-07, 2.23517418e-07,\n",
       "        0.00000000e+00]])"
      ]
     },
     "execution_count": 7,
     "metadata": {},
     "output_type": "execute_result"
    }
   ],
   "source": [
    "pyc.load_matrices(page)\n",
    "\n",
    "page.iloc[0].matrix"
   ]
  }
 ],
 "metadata": {
  "kernelspec": {
   "display_name": "Python 3 (ipykernel)",
   "language": "python",
   "name": "python3"
  },
  "language_info": {
   "codemirror_mode": {
    "name": "ipython",
    "version": 3
   },
   "file_extension": ".py",
   "mimetype": "text/x-python",
   "name": "python",
   "nbconvert_exporter": "python",
   "pygments_lexer": "ipython3",
   "version": "3.10.10"
  }
 },
 "nbformat": 4,
 "nbformat_minor": 1
}
